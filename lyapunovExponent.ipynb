{
 "cells": [
  {
   "cell_type": "code",
   "execution_count": 1,
   "id": "3ef71416",
   "metadata": {},
   "outputs": [],
   "source": [
    "import numpy as np\n",
    "import matplotlib.pyplot as plt"
   ]
  },
  {
   "cell_type": "code",
   "execution_count": 2,
   "id": "ed18cd00",
   "metadata": {},
   "outputs": [],
   "source": [
    "def simpleMap(tau,p):\n",
    "    gamma = 10**(p[2]*np.tanh(np.log10(tau)/p[3]))\n",
    "    newTau = p[0]*np.exp(-p[1]/((1 + 1/gamma + (1 - 1/gamma)*np.exp(-gamma*tau)))**(1/4))\n",
    "    return newTau"
   ]
  },
  {
   "cell_type": "code",
   "execution_count": 3,
   "id": "5a7d6b37",
   "metadata": {},
   "outputs": [],
   "source": [
    "def nDeriv(f, x, args):\n",
    "    delta = f(x+0.00001, args) - f(x, args)\n",
    "    return delta/0.00001"
   ]
  },
  {
   "cell_type": "code",
   "execution_count": 4,
   "id": "b8797071",
   "metadata": {},
   "outputs": [],
   "source": [
    "def lyapunovExp(f, x0, args):\n",
    "    lyExp = 0\n",
    "    x = x0\n",
    "    for i in range(1000):\n",
    "        lyExp += np.log(np.abs(nDeriv(f,x,args)))\n",
    "        x = f(x,args)\n",
    "    lyExp /= 1000\n",
    "    return lyExp"
   ]
  },
  {
   "cell_type": "code",
   "execution_count": 5,
   "id": "52f1e1cb",
   "metadata": {},
   "outputs": [
    {
     "name": "stdout",
     "output_type": "stream",
     "text": [
      "0.5342618804687317\n"
     ]
    },
    {
     "name": "stderr",
     "output_type": "stream",
     "text": [
      "/tmp/ipykernel_24/3430175157.py:2: RuntimeWarning: divide by zero encountered in log10\n",
      "  gamma = 10**(p[2]*np.tanh(np.log10(tau)/p[3]))\n"
     ]
    }
   ],
   "source": [
    "p2 = 38.7755\n",
    "p1 = 0.23299*np.exp(p2*2**(-0.25))\n",
    "p3 = 1.5346\n",
    "p4 = 0.5\n",
    "p = [p1,p2,p3,p4]\n",
    "print(lyapunovExp(simpleMap,0,p))"
   ]
  },
  {
   "cell_type": "code",
   "execution_count": null,
   "id": "bfe92543",
   "metadata": {},
   "outputs": [],
   "source": []
  }
 ],
 "metadata": {
  "kernelspec": {
   "display_name": "Python 3 (ipykernel)",
   "language": "python",
   "name": "python3"
  },
  "language_info": {
   "codemirror_mode": {
    "name": "ipython",
    "version": 3
   },
   "file_extension": ".py",
   "mimetype": "text/x-python",
   "name": "python",
   "nbconvert_exporter": "python",
   "pygments_lexer": "ipython3",
   "version": "3.9.13"
  }
 },
 "nbformat": 4,
 "nbformat_minor": 5
}
